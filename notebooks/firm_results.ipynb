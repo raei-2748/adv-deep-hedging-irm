{
 "cells": [
  {
   "cell_type": "markdown",
   "metadata": {},
   "source": [
    "# FIRM vs Baseline Results\n",
    "Compare performance across regimes and overall."
   ]
  }
 ],
 "metadata": {"kernelspec": {"display_name": "Python 3", "name": "python3"}},
 "nbformat": 4,
 "nbformat_minor": 2
}

